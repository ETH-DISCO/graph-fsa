{
 "cells": [
  {
   "cell_type": "markdown",
   "metadata": {},
   "source": [
    "Notebook to visualize WireWorld generator and model outputs"
   ]
  },
  {
   "cell_type": "code",
   "execution_count": null,
   "metadata": {},
   "outputs": [],
   "source": [
    "from datasets.wireworld import WireworldGraph\n",
    "import matplotlib.pyplot as plt\n",
    "from matplotlib.colors import ListedColormap\n",
    "\n",
    "import numpy as np"
   ]
  },
  {
   "cell_type": "code",
   "execution_count": null,
   "metadata": {},
   "outputs": [],
   "source": [
    "# Assume GRID_SIZE and dataset are already defined\n",
    "GRID_SIZE = 10\n",
    "graph = WireworldGraph(grid_size=GRID_SIZE).data[0]\n",
    "\n",
    "def plot_wireworld(values, grid_size, title=None):\n",
    "    # Define a color map\n",
    "    # empty (black), electron head (blue), electron tail (red), conductor (yellow)\n",
    "    cmap = ListedColormap(['black', 'blue', 'red', 'yellow'])\n",
    "\n",
    "    # Prepare data for imshow\n",
    "    data = values.reshape(grid_size, grid_size)\n",
    "\n",
    "    # Plot\n",
    "    fig, ax = plt.subplots()\n",
    "    ax.imshow(data, cmap=cmap)\n",
    "\n",
    "    # Draw grid lines\n",
    "    for x in range(grid_size+1):\n",
    "        ax.axhline(x-0.5, color='black', linewidth=0.5)\n",
    "        ax.axvline(x-0.5, color='black', linewidth=0.5)\n",
    "\n",
    "    # Set title and remove ticks\n",
    "    if title:\n",
    "        plt.title(title)\n",
    "    ax.set_xticks([])\n",
    "    ax.set_yticks([])\n",
    "    plt.show()\n",
    "\n",
    "\n",
    "plot_wireworld(graph.x.numpy(), GRID_SIZE, \"Wireworld Input\")\n",
    "plot_wireworld(graph.y.numpy(), GRID_SIZE, \"Wireworld Output\")"
   ]
  },
  {
   "cell_type": "markdown",
   "metadata": {},
   "source": [
    "Visualization WireWorld for paper"
   ]
  },
  {
   "cell_type": "code",
   "execution_count": null,
   "metadata": {},
   "outputs": [],
   "source": [
    "%matplotlib inline\n",
    "import numpy as np\n",
    "import matplotlib.pyplot as plt\n",
    "import matplotlib.colors as colors\n",
    "\n",
    "EMPTY = 0  # Empty cell\n",
    "WIRE = 1  # Conductor cell\n",
    "HEAD = 2  # Electron head\n",
    "TAIL = 3  # Electron tail\n",
    "\n",
    "PALETTE = np.array([\n",
    "    [0, 0, 0],     # Empty: White\n",
    "    [255, 255, 0],   # Wire: Black\n",
    "    [0, 0, 255],   # Head: Blue\n",
    "    [255, 0, 0],   # Tail: Red\n",
    "], dtype=np.uint8)\n",
    "\n",
    "def wireworld_step(grid):\n",
    "    new_grid = grid.copy()\n",
    "    height, width = grid.shape\n",
    "    for y in range(height):\n",
    "        for x in range(width):\n",
    "            if grid[y, x] == WIRE:\n",
    "                count = 0\n",
    "                for dy in [-1, 0, 1]:\n",
    "                    for dx in [-1, 0, 1]:\n",
    "                        if (dx != 0 or dy != 0) and (0 <= y + dy < height) and (0 <= x + dx < width) and grid[y + dy, x + dx] == HEAD:\n",
    "                            count += 1\n",
    "                if count == 1 or count == 2:\n",
    "                    new_grid[y, x] = HEAD\n",
    "            elif grid[y, x] == HEAD:\n",
    "                new_grid[y, x] = TAIL\n",
    "            elif grid[y, x] == TAIL:\n",
    "                new_grid[y, x] = WIRE\n",
    "    return new_grid\n",
    "\n",
    "world = np.array([\n",
    "    [EMPTY, EMPTY, EMPTY, EMPTY,  EMPTY, EMPTY, EMPTY, EMPTY, EMPTY, EMPTY],\n",
    "    [EMPTY, EMPTY, EMPTY, EMPTY,  EMPTY, EMPTY, EMPTY, EMPTY, EMPTY, EMPTY],\n",
    "    [EMPTY, EMPTY, EMPTY, EMPTY,  EMPTY, WIRE, WIRE, EMPTY, EMPTY, EMPTY],\n",
    "    [HEAD,  WIRE,  WIRE,  WIRE,   WIRE,   WIRE, EMPTY, WIRE, WIRE,  WIRE],\n",
    "    [EMPTY, EMPTY, EMPTY, EMPTY,  EMPTY, WIRE, WIRE, EMPTY, EMPTY, EMPTY],\n",
    "    [EMPTY, EMPTY, EMPTY, EMPTY,  EMPTY, EMPTY, EMPTY, EMPTY, EMPTY, EMPTY],\n",
    "    [EMPTY, EMPTY, EMPTY, EMPTY,  EMPTY, EMPTY, EMPTY, EMPTY, EMPTY, EMPTY],\n",
    "    [EMPTY, EMPTY, EMPTY, EMPTY,  EMPTY, WIRE, WIRE,  EMPTY, EMPTY, EMPTY],\n",
    "    [HEAD,  WIRE,  WIRE,  WIRE,   WIRE,  EMPTY, WIRE, WIRE, WIRE,  WIRE],\n",
    "    [EMPTY, EMPTY, EMPTY, EMPTY,  EMPTY, WIRE, WIRE, EMPTY, EMPTY, EMPTY],\n",
    "    [EMPTY, EMPTY, EMPTY, EMPTY,  EMPTY, EMPTY, EMPTY, EMPTY, EMPTY, EMPTY],\n",
    "    [EMPTY, EMPTY, EMPTY, EMPTY,  EMPTY, EMPTY, EMPTY, EMPTY, EMPTY, EMPTY],\n",
    "], dtype=np.uint8)\n",
    "\n",
    "fig, axes = plt.subplots(1, 4, figsize=(15, 5))\n",
    "\n",
    "count = 0\n",
    "for ax, i in zip(axes, range(4)):\n",
    "    ax.imshow(PALETTE[world], interpolation='none')\n",
    "    ax.set_title(f\"Step {count}\", fontsize=24)  # I've set the fontsize to 16. Adjust as required.\n",
    "    ax.axis('off')\n",
    "\n",
    "    world = wireworld_step(world)\n",
    "    world = wireworld_step(world)\n",
    "    world = wireworld_step(world)\n",
    "    count += 3\n",
    "\n",
    "plt.tight_layout()\n",
    "plt.show()"
   ]
  },
  {
   "cell_type": "markdown",
   "metadata": {},
   "source": [
    "Model Evaluation\n"
   ]
  },
  {
   "cell_type": "code",
   "execution_count": null,
   "metadata": {},
   "outputs": [],
   "source": [
    "import torch \n",
    "# plase adjust model path\n",
    "model = torch.load(\"runs/wireworld/wireworld_1694529621082373000.pt\")\n",
    "model.set_hardmax(True)\n",
    "\n",
    "def map_x_to_state(xs):\n",
    "    outputs = []\n",
    "    for x in xs:\n",
    "        output = [0,0,0,0]\n",
    "        output[int(x.item())] = 1\n",
    "        \n",
    "        outputs.append(output)\n",
    "    outputs = torch.tensor(outputs)\n",
    "    return outputs\n",
    "\n",
    "input_values = map_x_to_state(graph.x)\n",
    "output_values = model(input_values, graph.edge_index)\n",
    "output_values = torch.argmax(output_values, dim=-1)\n",
    "plot_wireworld(output_values.numpy().reshape(GRID_SIZE, GRID_SIZE), GRID_SIZE, \"WireWolrd Model Output\")"
   ]
  }
 ],
 "metadata": {
  "kernelspec": {
   "display_name": "gnn_dt",
   "language": "python",
   "name": "python3"
  },
  "language_info": {
   "codemirror_mode": {
    "name": "ipython",
    "version": 3
   },
   "file_extension": ".py",
   "mimetype": "text/x-python",
   "name": "python",
   "nbconvert_exporter": "python",
   "pygments_lexer": "ipython3",
   "version": "3.8.16"
  },
  "orig_nbformat": 4
 },
 "nbformat": 4,
 "nbformat_minor": 2
}
