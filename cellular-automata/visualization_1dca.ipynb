{
 "cells": [
  {
   "cell_type": "code",
   "execution_count": null,
   "metadata": {},
   "outputs": [],
   "source": [
    "from datasets.gameoflife import GameOfLifeGraph\n",
    "from datasets.onedimensionalca import OneDimensionalAutomataGridGraph\n",
    "import matplotlib.pyplot as plt\n",
    "import numpy as np"
   ]
  },
  {
   "cell_type": "markdown",
   "metadata": {},
   "source": [
    "Visualize Input/Output pairs"
   ]
  },
  {
   "cell_type": "code",
   "execution_count": 6,
   "metadata": {},
   "outputs": [
    {
     "name": "stdout",
     "output_type": "stream",
     "text": [
      "values tensor([[1., 1., 0., 1., 0.],\n",
      "        [0., 1., 0., 0., 0.],\n",
      "        [0., 0., 1., 1., 1.],\n",
      "        [0., 1., 0., 0., 0.],\n",
      "        [1., 0., 1., 1., 0.]])\n"
     ]
    },
    {
     "data": {
      "image/png": "[encoded data removed]",
      "text/plain": [
       "<Figure size 640x480 with 1 Axes>"
      ]
     },
     "metadata": {},
     "output_type": "display_data"
    },
    {
     "name": "stdout",
     "output_type": "stream",
     "text": [
      "values [[1. 0. 0. 1. 1.]\n",
      " [1. 1. 1. 0. 0.]\n",
      " [0. 1. 1. 0. 0.]\n",
      " [1. 1. 1. 0. 0.]\n",
      " [1. 0. 1. 0. 1.]]\n"
     ]
    },
    {
     "data": {
      "image/png": "[encoded data removed]",
      "text/plain": [
       "<Figure size 640x480 with 1 Axes>"
      ]
     },
     "metadata": {},
     "output_type": "display_data"
    }
   ],
   "source": [
    "GRID_SIZE = 5\n",
    "RULE_NUMBER = 30\n",
    "\n",
    "dataset = OneDimensionalAutomataGridGraph(num_graphs=1, grid_size=GRID_SIZE, steps=1, rule_number=RULE_NUMBER).data\n",
    "\n",
    "def plot_grid(values, grid_size, title=None):\n",
    "    print(\"values\", values)\n",
    "    fig, ax = plt.subplots()\n",
    "    ax.imshow(values, cmap=\"gray_r\")\n",
    "\n",
    "    # Draw grid lines\n",
    "    for x in range(grid_size+1):\n",
    "        ax.axhline(x-0.5, color='black', linewidth=0.5)\n",
    "        ax.axvline(x-0.5, color='black', linewidth=0.5)\n",
    "\n",
    "    plt.title(title)\n",
    "    ax.set_xticks([])\n",
    "    ax.set_yticks([])\n",
    "    plt.show()\n",
    "\n",
    "graph = dataset[0]\n",
    "plot_grid(graph.x.reshape(GRID_SIZE, GRID_SIZE), GRID_SIZE, \"1D CA Input\")\n",
    "plot_grid(graph.y.numpy().reshape(GRID_SIZE, GRID_SIZE), GRID_SIZE, \"1D CA Output\")\n",
    "\n"
   ]
  },
  {
   "cell_type": "markdown",
   "metadata": {},
   "source": [
    "Visualize Rule"
   ]
  },
  {
   "cell_type": "code",
   "execution_count": 7,
   "metadata": {},
   "outputs": [
    {
     "data": {
      "image/png": "[encoded data removed]",
      "text/plain": [
       "<Figure size 1600x200 with 8 Axes>"
      ]
     },
     "metadata": {},
     "output_type": "display_data"
    }
   ],
   "source": [
    "import numpy as np\n",
    "import matplotlib.pyplot as plt\n",
    "\n",
    "def visualize_rule(rule_number):\n",
    "    rule_bin = format(rule_number, '08b')[::-1]  # binary representation of the rule, reversed for easy indexing\n",
    "    \n",
    "    fig, axs = plt.subplots(1, 8, figsize=(16, 2))\n",
    "    \n",
    "    # All 8 possible configurations\n",
    "    configurations = np.array([[1, 1, 1],\n",
    "                               [1, 1, 0],\n",
    "                               [1, 0, 1],\n",
    "                               [1, 0, 0],\n",
    "                               [0, 1, 1],\n",
    "                               [0, 1, 0],\n",
    "                               [0, 0, 1],\n",
    "                               [0, 0, 0]])\n",
    "    \n",
    "    # Resulting states based on the rule\n",
    "    results = np.array([int(rule_bin[i]) for i in range(8)])\n",
    "    results = results[::-1]\n",
    "    \n",
    "    # Plot configurations and results\n",
    "    for i, (config, res) in enumerate(zip(configurations, results)):\n",
    "        grid = np.array([config, [0, res, 0]])\n",
    "        axs[i].imshow(grid, cmap='gray_r', aspect='equal')\n",
    "        axs[i].set_title(f\"{config[0]}{config[1]}{config[2]}\", pad=15)\n",
    "        axs[i].axis('off')\n",
    "        \n",
    "        # Adding gridlines for the top row\n",
    "        for j in range(4):\n",
    "            axs[i].axvline(x=j - 0.5, color='black', linewidth=0.5)\n",
    "        axs[i].axhline(y=-0.5, color='black', linewidth=0.5)\n",
    "        axs[i].axhline(y=0.5, color='black', linewidth=0.5)\n",
    "\n",
    "        # Gridlines for the center box in the second row\n",
    "        axs[i].axhline(y=1.5, color='black', linewidth=0.5)\n",
    "        axs[i].axvline(x=0.5, color='black', linewidth=0.5)\n",
    "        axs[i].axvline(x=1.5, color='black', linewidth=0.5)\n",
    "    \n",
    "    plt.tight_layout()\n",
    "    plt.suptitle(f\"Rule {rule_number}\", y=1.3, fontsize=16)\n",
    "    plt.show()\n",
    " \n",
    "# For example, to visualize rule 30:\n",
    "visualize_rule(30)\n"
   ]
  },
  {
   "cell_type": "markdown",
   "metadata": {},
   "source": [
    "Visualize Output from Model"
   ]
  },
  {
   "cell_type": "code",
   "execution_count": null,
   "metadata": {},
   "outputs": [],
   "source": [
    "import torch \n",
    "# todo change model import path\n",
    "model = torch.load(\"runs/ca/ca_rule_30_1694446497978212000.pt\")\n",
    "model.set_hardmax(True)\n",
    "\n",
    "def map_x_to_state(xs):\n",
    "    outputs = []\n",
    "    for x in xs:\n",
    "        output = [0,0]\n",
    "        output[int(x.item())] = 1\n",
    "        \n",
    "        outputs.append(output)\n",
    "    outputs = torch.tensor(outputs)\n",
    "    return outputs\n",
    "\n",
    "input_values = map_x_to_state(graph.x)\n",
    "output_values = model(input_values, graph.edge_index)\n",
    "output_values = torch.argmax(output_values, dim=-1)\n",
    "plot_grid(output_values.numpy().reshape(5, 5), 5, \"CA Rule 30 Model Output\")"
   ]
  },
  {
   "cell_type": "markdown",
   "metadata": {},
   "source": [
    "Visualize Trained FSM"
   ]
  },
  {
   "cell_type": "code",
   "execution_count": null,
   "metadata": {},
   "outputs": [],
   "source": [
    "# extracting multiple state machines (we trained a state machine for each input class)\n",
    "from graphviz import Digraph\n",
    "from itertools import product\n",
    "\n",
    "all_added = []\n",
    "\n",
    "for start_id in range(0,2):\n",
    "    G = Digraph(graph_attr={'rankdir':'LR'}, node_attr={'shape':'circle', \"width\": \"0.8\"})\n",
    "\n",
    "    state_names = ['s0', 's1']\n",
    "\n",
    "    G.node(state_names[0], penwidth='3px')\n",
    "    G.node(state_names[1], penwidth='3px')\n",
    "\n",
    "    added = []\n",
    "    \n",
    "    train_dataset = OneDimensionalAutomataGridGraph(num_graphs=200, grid_size=GRID_SIZE, steps=1, rule_number=RULE_NUMBER).data\n",
    "\n",
    "    for j in range(len(train_dataset)):\n",
    "            \n",
    "        model.set_hardmax(True)\n",
    "        model.set_logging(True)\n",
    "\n",
    "        out, all_states, transitions = model(map_x_to_state(train_dataset[j].x), train_dataset[j].edge_index)\n",
    "        out = torch.argmax(out, dim=-1)\n",
    "\n",
    "        for i in range(GRID_SIZE * GRID_SIZE):\n",
    "            \n",
    "            current_state = torch.argmax(all_states[0][i], dim=-1).item()\n",
    "            if start_id != current_state:\n",
    "                continue\n",
    "\n",
    "            for j in range(1,2):\n",
    "                next_state = torch.argmax(all_states[j][i], dim=-1).item()\n",
    "                transition_value = str(transitions[j-1][i].tolist())\n",
    "\n",
    "                transitionTuple = (state_names[current_state], state_names[next_state], transition_value)\n",
    "\n",
    "                if transitionTuple not in added:\n",
    "                                            \n",
    "                    G.edge(state_names[current_state], state_names[next_state], transition_value)\n",
    "                    added.append(transitionTuple)\n",
    "\n",
    "                current_state = next_state\n",
    "        \n",
    "        all_added += added\n",
    "\n",
    "    print(\"starting state s\", start_id)\n",
    "    G.render('task0_ref_fsm', format='svg')\n",
    "    display(G)"
   ]
  },
  {
   "cell_type": "markdown",
   "metadata": {},
   "source": [
    "Code to identify rule number learned by model and visualize it"
   ]
  },
  {
   "cell_type": "code",
   "execution_count": null,
   "metadata": {},
   "outputs": [],
   "source": [
    "def identify_rule_from_transitions(added, state_names):\n",
    "    rule_bin = ['0'] * 8  # start with rule 0 (all zeros)\n",
    "    \n",
    "    for transition in added:\n",
    "        start_state, end_state, transition_value = transition\n",
    "        \n",
    "        # Cleaning up the string to extract values\n",
    "        transition_value = transition_value.replace('[', '').replace(']', '')\n",
    "        \n",
    "        # Extracting states from transition_value string\n",
    "        left_neighbour, right_neighbour = [int(float(s)) for s in transition_value.split(\",\")]\n",
    "        \n",
    "        # Using states to get the index\n",
    "        idx = int(f\"{left_neighbour}{state_names.index(start_state)}{right_neighbour}\", 2)\n",
    "        \n",
    "        rule_bin[idx] = str(state_names.index(end_state))\n",
    "    rule_bin.reverse() \n",
    "    rule_number = int(\"\".join(rule_bin), 2)\n",
    "    return rule_number\n",
    "\n",
    "rule_number = identify_rule_from_transitions(all_added, state_names)\n",
    "print(\"Identified rule:\", rule_number)\n",
    "# numbering is the other way for rules\n",
    "visualize_rule(rule_number)\n"
   ]
  }
 ],
 "metadata": {
  "kernelspec": {
   "display_name": "gnn_dt",
   "language": "python",
   "name": "python3"
  },
  "language_info": {
   "codemirror_mode": {
    "name": "ipython",
    "version": 3
   },
   "file_extension": ".py",
   "mimetype": "text/x-python",
   "name": "python",
   "nbconvert_exporter": "python",
   "pygments_lexer": "ipython3",
   "version": "3.8.16"
  },
  "orig_nbformat": 4
 },
 "nbformat": 4,
 "nbformat_minor": 2
}
